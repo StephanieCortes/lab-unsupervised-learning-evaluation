{
  "nbformat": 4,
  "nbformat_minor": 0,
  "metadata": {
    "kernelspec": {
      "display_name": "Python 3",
      "language": "python",
      "name": "python3"
    },
    "language_info": {
      "codemirror_mode": {
        "name": "ipython",
        "version": 3
      },
      "file_extension": ".py",
      "mimetype": "text/x-python",
      "name": "python",
      "nbconvert_exporter": "python",
      "pygments_lexer": "ipython3",
      "version": "3.7.2"
    },
    "colab": {
      "name": "main.ipynb",
      "provenance": []
    }
  },
  "cells": [
    {
      "cell_type": "markdown",
      "metadata": {
        "id": "BWUhVvGhmajB"
      },
      "source": [
        "# Unsupervised Learning Model Evaluation Lab\n",
        "\n",
        "Complete the exercises below to solidify your knowledge and understanding of unsupervised learning model evaluation."
      ]
    },
    {
      "cell_type": "code",
      "metadata": {
        "id": "Jpep8NLnmajL"
      },
      "source": [
        "import pandas as pd\n",
        "import numpy as np\n",
        "import matplotlib.pyplot as plt"
      ],
      "execution_count": null,
      "outputs": []
    },
    {
      "cell_type": "code",
      "metadata": {
        "id": "ExTHjANNmajM"
      },
      "source": [
        "from sklearn import datasets\n",
        "\n",
        "data = datasets.load_wine()\n",
        "\n",
        "X = pd.DataFrame(data[\"data\"], columns=data[\"feature_names\"])\n",
        "y = pd.Series(data[\"target\"])"
      ],
      "execution_count": null,
      "outputs": []
    },
    {
      "cell_type": "markdown",
      "metadata": {
        "id": "DdM9r01gmajN"
      },
      "source": [
        "## 1. Train a KMeans clustering model on the data set using 8 clusters and compute the silhouette score for the model."
      ]
    },
    {
      "cell_type": "code",
      "metadata": {
        "id": "79WPUSDFmajN"
      },
      "source": [
        "from sklearn.cluster import KMeans\n",
        "from sklearn.metrics import silhouette_score"
      ],
      "execution_count": null,
      "outputs": []
    },
    {
      "cell_type": "code",
      "metadata": {
        "id": "49pkLblumfRy"
      },
      "source": [
        "kmeans8 = KMeans(n_clusters=8)\n",
        "preds8 = kmeans8.fit_predict(X)\n",
        "\n",
        "print(\"Model 1 Silhouette Score: {}\".format(silhouette_score(X, preds8)))"
      ],
      "execution_count": null,
      "outputs": []
    },
    {
      "cell_type": "markdown",
      "metadata": {
        "id": "0IIZim6BmajO"
      },
      "source": [
        "## 2. Train a KMeans clustering model on the data set using 5 clusters and compute the silhouette score for the model."
      ]
    },
    {
      "cell_type": "code",
      "metadata": {
        "id": "DkC2RLBKmajO"
      },
      "source": [
        "kmeans_5 = KMeans(n_clusters=5)\n",
        "preds_5 = kmeans_5.fit_predict(X)\n",
        "\n",
        "print(\"Model 2 Silhouette Score: {}\".format(silhouette_score(X, preds_5)))"
      ],
      "execution_count": null,
      "outputs": []
    },
    {
      "cell_type": "markdown",
      "metadata": {
        "id": "wNr0qYV8majP"
      },
      "source": [
        "## 3. Train a KMeans clustering model on the data set using 3 clusters and compute the silhouette score for the model."
      ]
    },
    {
      "cell_type": "code",
      "metadata": {
        "id": "jWp1hFAbmajP"
      },
      "source": [
        "kmeans_3 = KMeans(n_clusters=3)\n",
        "preds_3 = kmeans_3.fit_predict(X)\n",
        "\n",
        "print(\"Model 3 Silhouette Score: {}\".format(silhouette_score(X, preds_3)))"
      ],
      "execution_count": null,
      "outputs": []
    },
    {
      "cell_type": "markdown",
      "metadata": {
        "id": "LV6e3xMHmajP"
      },
      "source": [
        "## 4. Use elbow curve visualizations to see if you can determine the best number of clusters to use.\n",
        "\n",
        "The Yellowbrick library has 3 metrics that you can plot using the `metric` parameter:\n",
        "\n",
        "- **distortion**: mean sum of squared distances to centers\n",
        "- **silhouette**: mean ratio of intra-cluster and nearest-cluster distance\n",
        "- **calinski_harabaz**: ratio of within to between cluster dispersion"
      ]
    },
    {
      "cell_type": "code",
      "metadata": {
        "id": "-3eGOBRQmajQ"
      },
      "source": [
        "from yellowbrick.cluster import KElbowVisualizer\n",
        "\n",
        "model = KMeans()\n",
        "visualizer = KElbowVisualizer(model, k=(4,12))\n",
        "visualizer.fit(X)\n",
        "visualizer.poof();"
      ],
      "execution_count": null,
      "outputs": []
    },
    {
      "cell_type": "code",
      "metadata": {
        "id": "3BhBuWaynFYX"
      },
      "source": [
        "model = KMeans()\n",
        "visualizer = KElbowVisualizer(model, k=(4,12), metric = 'silhouette')\n",
        "visualizer.fit(X)\n",
        "visualizer.poof();"
      ],
      "execution_count": null,
      "outputs": []
    },
    {
      "cell_type": "code",
      "metadata": {
        "id": "s3s0dzDtnFo3"
      },
      "source": [
        ""
      ],
      "execution_count": null,
      "outputs": []
    },
    {
      "cell_type": "markdown",
      "metadata": {
        "id": "CJssmgEqmajQ"
      },
      "source": [
        "## 5. Try performing the same elbow tests with an AgglomerativeClustering model and compare the results you get to the KMeans results."
      ]
    },
    {
      "cell_type": "code",
      "metadata": {
        "id": "vYsVzjlVmajQ"
      },
      "source": [
        "from sklearn.cluster import AgglomerativeClustering\n",
        "\n",
        "model_2 = AgglomerativeClustering()\n",
        "visualizer = KElbowVisualizer(model_2, k=(4,12))\n",
        "visualizer.fit(X)\n",
        "visualizer.poof();\n"
      ],
      "execution_count": null,
      "outputs": []
    },
    {
      "cell_type": "markdown",
      "metadata": {
        "id": "cKotuFA0majR"
      },
      "source": [
        "## 6. Create and plot a scatter matrix showing how the clusters are grouped across all the different combinations of variables in the data.\n",
        "\n",
        "Use the model and number of clusters that returned the best result above."
      ]
    },
    {
      "cell_type": "code",
      "metadata": {
        "id": "BRLk_uC5majR"
      },
      "source": [
        "import seaborn as sns"
      ],
      "execution_count": null,
      "outputs": []
    },
    {
      "cell_type": "code",
      "metadata": {
        "id": "6_gzH35unapT"
      },
      "source": [
        "model_6 = KMeans(n_clusters = 6)\n",
        "model_6.fit(X)model_6.labels_\n",
        "model_6.labels_\n"
      ],
      "execution_count": null,
      "outputs": []
    },
    {
      "cell_type": "code",
      "metadata": {
        "id": "WAV5x_gunfmO"
      },
      "source": [
        "X['clusters'] = model_6.labels_\n",
        "sns.pairplot(data = X, hue = 'clusters', palette = 'tab10')"
      ],
      "execution_count": null,
      "outputs": []
    },
    {
      "cell_type": "markdown",
      "metadata": {
        "id": "led8yiQpmajS"
      },
      "source": [
        "## 7. Apply a PCA transform and plot the first two principle components with the plot point colors determined by cluster."
      ]
    },
    {
      "cell_type": "code",
      "metadata": {
        "id": "ZKFEo4ohmajS"
      },
      "source": [
        "from sklearn.decomposition import PCA"
      ],
      "execution_count": null,
      "outputs": []
    },
    {
      "cell_type": "code",
      "metadata": {
        "id": "rCY2G38onowR"
      },
      "source": [
        "pca = PCA()\n",
        "pca_X = pca.fit_transform(X)\n",
        "\n",
        "pca_X = pd.DataFrame(pca_X)\n",
        "pca_X"
      ],
      "execution_count": null,
      "outputs": []
    },
    {
      "cell_type": "code",
      "metadata": {
        "id": "97xC99bOnpD9"
      },
      "source": [
        "sns.scatterplot(data = pca_X, x = pca_X[0], y = pca_X[1], hue = model_6.labels_, palette = 'tab10')"
      ],
      "execution_count": null,
      "outputs": []
    },
    {
      "cell_type": "markdown",
      "metadata": {
        "id": "FrtPl6VrmajU"
      },
      "source": [
        "## 8. Generate a series of t-SNE plots showing the clusters at a variety of perplexities."
      ]
    },
    {
      "cell_type": "code",
      "metadata": {
        "scrolled": false,
        "id": "DQTa80k1majU"
      },
      "source": [
        "from sklearn.manifold import TSNE"
      ],
      "execution_count": null,
      "outputs": []
    },
    {
      "cell_type": "code",
      "metadata": {
        "id": "9-QliKO5n4PO"
      },
      "source": [
        "fig, ax = plt.subplots(1, 4, figsize=(15, 7))\n",
        "for i, perp in enumerate([5, 30, 50, 100]):\n",
        "    tsne = TSNE(perplexity=perp)\n",
        "    x_embedded = tsne.fit_transform(pca_X[[0,1]])\n",
        "    ax[i].scatter(x_embedded[:, 0], x_embedded[:, 1], c=model_6.labels_)\n",
        "    ax[i].set_title(\"Perplexity = {}\".format(perp))\n",
        "    \n",
        "plt.show();"
      ],
      "execution_count": null,
      "outputs": []
    }
  ]
}